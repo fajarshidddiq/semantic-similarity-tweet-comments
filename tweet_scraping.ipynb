{
 "cells": [
  {
   "cell_type": "code",
   "execution_count": 1,
   "metadata": {},
   "outputs": [],
   "source": [
    "%%capture\n",
    "! pip install twscrape\n",
    "! pip install pandas"
   ]
  },
  {
   "cell_type": "markdown",
   "metadata": {},
   "source": [
    "## Authentication"
   ]
  },
  {
   "cell_type": "code",
   "execution_count": 2,
   "metadata": {},
   "outputs": [
    {
     "name": "stdout",
     "output_type": "stream",
     "text": [
      "2024-04-10 08:17:34.813 | INFO     | twscrape.db:migrate:92 - Running migration to v1\n",
      "2024-04-10 08:17:34.821 | INFO     | twscrape.db:migrate:92 - Running migration to v2\n",
      "2024-04-10 08:17:34.832 | INFO     | twscrape.db:migrate:92 - Running migration to v3\n",
      "2024-04-10 08:17:34.846 | INFO     | twscrape.accounts_pool:add_account:97 - Account fajarshiddiqqq added successfully (active=False)\n",
      "\n"
     ]
    }
   ],
   "source": [
    "import subprocess\n",
    "\n",
    "credentials = 'credentials.txt' # NOTE: Change this to the path of your credentials file\n",
    "process = subprocess.Popen(['twscrape', 'add_accounts', credentials, 'username:password:email:email_password:_:_'], stdout=subprocess.PIPE, stderr=subprocess.PIPE)\n",
    "stdout, stderr = process.communicate()\n",
    "\n",
    "if stderr:\n",
    "    print(stderr.decode('utf-8'))\n",
    "else:\n",
    "    print(stdout.decode('utf-8'))"
   ]
  },
  {
   "cell_type": "code",
   "execution_count": 3,
   "metadata": {},
   "outputs": [
    {
     "name": "stdout",
     "output_type": "stream",
     "text": [
      "2024-04-10 08:17:50.411 | INFO     | twscrape.accounts_pool:login_all:166 - [1/1] Logging in fajarshiddiqqq - fajarshiddiqqq@gmail.com\n",
      "2024-04-10 08:17:53.175 | INFO     | twscrape.accounts_pool:login:145 - Logged in to fajarshiddiqqq successfully\n",
      "\n"
     ]
    }
   ],
   "source": [
    "import subprocess\n",
    "\n",
    "process = subprocess.Popen(['twscrape', 'login_accounts'], stdout=subprocess.PIPE, stderr=subprocess.PIPE)\n",
    "stdout, stderr = process.communicate()\n",
    "if stderr:\n",
    "    print(stderr.decode('utf-8'))\n",
    "else:\n",
    "    print(stdout.decode('utf-8'))"
   ]
  },
  {
   "cell_type": "markdown",
   "metadata": {},
   "source": [
    "## Scraping Methods"
   ]
  },
  {
   "cell_type": "code",
   "execution_count": 5,
   "metadata": {},
   "outputs": [],
   "source": [
    "import subprocess\n",
    "import json\n",
    "\n",
    "def get_nested_value(data_dict, nested_key):\n",
    "    keys = nested_key.split(\".\")\n",
    "    for key in keys:\n",
    "        if isinstance(data_dict, dict):\n",
    "            data_dict = data_dict.get(key)\n",
    "        else:\n",
    "            return None\n",
    "    return data_dict\n",
    "\n",
    "def tweet_details(tweet_id: str):\n",
    "    \"\"\"\n",
    "    Available fields:\n",
    "    id, id_str, url, date, user.id, user.id_str, user.url, user.username, user.displayname, user.rawDescription, user.created, user.followersCount, user.friendsCount, user.statusesCount, user.favouritesCount, user.listedCount, user.mediaCount, user.location, user.profileImageUrl, user.profileBannerUrl, user.protected, user.verified, user.blue, user.blueType, user.descriptionLinks, user._type, lang, rawContent, replyCount, retweetCount, likeCount, quoteCount, conversationId, conversationIdStr, hashtags, cashtags, mentionedUsers, links, viewCount, retweetedTweet, quotedTweet, place, coordinates, inReplyToTweetId, inReplyToTweetIdStr, inReplyToUser, source, sourceUrl, sourceLabel, media.photos, media.videos, media.animated, _type\n",
    "    \"\"\"\n",
    "    process = subprocess.Popen(\n",
    "        [\"twscrape\", \"tweet_details\", tweet_id],\n",
    "        stdout=subprocess.PIPE,\n",
    "        stderr=subprocess.PIPE,\n",
    "        text=True\n",
    "    )\n",
    "    stdout, stderr = process.communicate()\n",
    "    if stderr:\n",
    "        return {\"status\": False, \"meta\": stderr, \"data\": None}\n",
    "    else:\n",
    "        tweet_data = stdout.strip().split(\"\\n\")\n",
    "        tweet_json = json.loads(tweet_data[0])\n",
    "        selected_fields = {\n",
    "            \"tweet_id\": tweet_json.get(\"id_str\"),\n",
    "            \"date\": tweet_json.get(\"date\"),\n",
    "            \"username\": get_nested_value(tweet_json, \"user.username\"),\n",
    "            \"rawContent\": tweet_json.get(\"rawContent\")\n",
    "        }\n",
    "        return {\"status\": True, \"meta\": \"success\", \"data\": selected_fields}\n",
    "\n",
    "def tweet_replies(tweet_id: str, limit=5):\n",
    "    \"\"\"\n",
    "    Available fields:\n",
    "    id, id_str, url, date, user.id, user.id_str, user.url, user.username, user.displayname, user.rawDescription, user.created, user.followersCount, user.friendsCount, user.statusesCount, user.favouritesCount, user.listedCount, user.mediaCount, user.location, user.profileImageUrl, user.profileBannerUrl, user.protected, user.verified, user.blue, user.blueType, user.descriptionLinks, user._type, lang, rawContent, replyCount, retweetCount, likeCount, quoteCount, conversationId, conversationIdStr, hashtags, cashtags, mentionedUsers, links, viewCount, retweetedTweet, quotedTweet, place, coordinates, inReplyToTweetId, inReplyToTweetIdStr, inReplyToUser.id, inReplyToUser.id_str, inReplyToUser.username, inReplyToUser.displayname, inReplyToUser._type, source, sourceUrl, sourceLabel, media.photos, media.videos, media.animated, _type\n",
    "    \"\"\"\n",
    "    limit = max(limit, 2)\n",
    "    process = subprocess.Popen(\n",
    "        [\"twscrape\", \"tweet_replies\", tweet_id, f\"--limit={limit}\"],\n",
    "        stdout=subprocess.PIPE,\n",
    "        stderr=subprocess.PIPE,\n",
    "        text=True\n",
    "    )\n",
    "    stdout, stderr = process.communicate()\n",
    "    if stderr:\n",
    "        return {\"status\": False, \"meta\": stderr, \"data\": None}\n",
    "    else:\n",
    "        tweet_comments = stdout.strip().split(\"\\n\")\n",
    "        tweet_comments_json = [\n",
    "            {\n",
    "                \"comment_id\": comment.get(\"id_str\"),\n",
    "                \"date\": comment.get(\"date\"),\n",
    "                \"rawContent\": comment.get(\"rawContent\"),\n",
    "                \"tweet_id\": comment.get(\"inReplyToTweetIdStr\"),\n",
    "            } for comment in (json.loads(c) for c in tweet_comments)\n",
    "        ]\n",
    "        return {\"status\": True, \"meta\": \"success\", \"data\": tweet_comments_json}"
   ]
  },
  {
   "cell_type": "markdown",
   "metadata": {},
   "source": [
    "## Usage"
   ]
  },
  {
   "cell_type": "code",
   "execution_count": 7,
   "metadata": {},
   "outputs": [],
   "source": [
    "import pandas as pd\n",
    "import os\n",
    "\n",
    "id_to_scrape = [\"1777668029624574360\"]\n",
    "\n",
    "replies_csv = \"replies.csv\"\n",
    "tweet_csv = \"tweet.csv\"\n",
    "\n",
    "\n",
    "# Check file availability\n",
    "if os.path.exists(replies_csv):\n",
    "    replies_df = pd.read_csv(replies_csv)\n",
    "else:\n",
    "    replies_df = pd.DataFrame()\n",
    "\n",
    "if os.path.exists(tweet_csv):\n",
    "    tweet_df = pd.read_csv(tweet_csv)\n",
    "else:\n",
    "    tweet_df = pd.DataFrame()\n",
    "\n",
    "# Scraping process\n",
    "for tweet_id in id_to_scrape:\n",
    "    replies = tweet_replies(tweet_id, 500)\n",
    "    tweet = tweet_details(tweet_id)\n",
    "\n",
    "    if replies[\"status\"] and tweet[\"status\"]:\n",
    "        df_replies = pd.DataFrame(replies[\"data\"])\n",
    "        replies_df = pd.concat([replies_df, df_replies], ignore_index=True)\n",
    "\n",
    "        df_tweet = pd.DataFrame(tweet[\"data\"], index=[0])\n",
    "        tweet_df = pd.concat([tweet_df, df_tweet], ignore_index=True)\n",
    "\n",
    "    else:\n",
    "        print(f\"Failed to scrape tweet {tweet_id}\")\n",
    "\n",
    "# Save to CSV\n",
    "replies_df.to_csv(replies_csv, index=False)\n",
    "tweet_df.to_csv(tweet_csv, index=False)"
   ]
  }
 ],
 "metadata": {
  "kernelspec": {
   "display_name": "myenv",
   "language": "python",
   "name": "python3"
  },
  "language_info": {
   "codemirror_mode": {
    "name": "ipython",
    "version": 3
   },
   "file_extension": ".py",
   "mimetype": "text/x-python",
   "name": "python",
   "nbconvert_exporter": "python",
   "pygments_lexer": "ipython3",
   "version": "3.12.2"
  }
 },
 "nbformat": 4,
 "nbformat_minor": 2
}
